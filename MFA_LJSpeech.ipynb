{
 "cells": [
  {
   "cell_type": "code",
   "execution_count": null,
   "metadata": {
    "id": "_twSwprjG_M9"
   },
   "outputs": [],
   "source": [
    "%%writefile install_mfa.sh\n",
    "#!/bin/bash\n",
    "\n",
    "## a script to install Montreal Forced Aligner (MFA)\n",
    "\n",
    "root_dir=${1:-/tmp/mfa}\n",
    "mkdir -p $root_dir\n",
    "cd $root_dir\n",
    "\n",
    "# download miniconda3\n",
    "wget -q --show-progress https://repo.anaconda.com/miniconda/Miniconda3-latest-Linux-x86_64.sh\n",
    "bash Miniconda3-latest-Linux-x86_64.sh -b -p $root_dir/miniconda3 -f\n",
    "\n",
    "#install MFA\n",
    "$root_dir/miniconda3/bin/conda create -n aligner -c conda-forge montreal-forced-aligner -y\n",
    "\n",
    "echo -e \"\\n======== DONE ==========\"\n",
    "echo -e \"\\nTo activate MFA, run: source $root_dir/miniconda3/bin/activate aligner\"\n",
    "echo -e \"\\nTo delete MFA, run: rm -rf $root_dir\"\n",
    "echo -e \"\\nSee: https://montreal-forced-aligner.readthedocs.io/en/latest/aligning.html to know how to use MFA\""
   ]
  },
  {
   "cell_type": "code",
   "execution_count": null,
   "metadata": {
    "id": "molbePbO8mlv"
   },
   "outputs": [],
   "source": [
    "# download and install mfa\n",
    "INSTALL_DIR=\"/tmp/mfa\" # path to install directory\n",
    "\n",
    "!bash ./install_mfa.sh {INSTALL_DIR}\n",
    "!source {INSTALL_DIR}/miniconda3/bin/activate aligner; mfa align --help"
   ]
  },
  {
   "cell_type": "code",
   "execution_count": null,
   "metadata": {
    "id": "ppEcCzZ2MZSp"
   },
   "outputs": [],
   "source": [
    "# download and unpack ljs dataset\n",
    "!echo \"download and unpack ljs dataset\"\n",
    "!mkdir -p ./ljs; cd ./ljs; wget -q --show-progress https://data.keithito.com/data/speech/LJSpeech-1.1.tar.bz2\n",
    "!cd ./ljs; tar xjf LJSpeech-1.1.tar.bz2"
   ]
  },
  {
   "cell_type": "code",
   "execution_count": null,
   "metadata": {
    "id": "j6XLgf6aMbgo"
   },
   "outputs": [],
   "source": [
    "# install sox tool\n",
    "!sudo apt install -q -y sox\n",
    "# convert to 16k audio clips\n",
    "!mkdir ./wav\n",
    "!echo \"normalize audio clips to sample rate of 16k\"\n",
    "!find ./ljs -name \"*.wav\" -type f -execdir sox --norm=-3 {} -r 16k -c 1 `pwd`/wav/{} \\;\n",
    "!echo \"Number of clips\" $(ls ./wav/ | wc -l)"
   ]
  },
  {
   "cell_type": "code",
   "execution_count": null,
   "metadata": {
    "id": "ZbNfEn5pMdOf"
   },
   "outputs": [],
   "source": [
    "# create transcript files from metadata.csv\n",
    "lines = open('./ljs/LJSpeech-1.1/metadata.csv', 'r').readlines()\n",
    "from tqdm.auto import tqdm\n",
    "for line in tqdm(lines):\n",
    "  fn, _, transcript = line.strip().split('|')\n",
    "  ident = fn\n",
    "  open(f'./wav/{ident}.txt', 'w').write(transcript)\n",
    "\n",
    "# this is an example transcript for LJ001-0001.wav\n",
    "!cat ./wav/LJ001-0001.txt"
   ]
  },
  {
   "cell_type": "code",
   "execution_count": null,
   "metadata": {
    "id": "obtWj9_wMghH"
   },
   "outputs": [],
   "source": [
    "# download a pretrained english acoustic model, and english lexicon\n",
    "!wget -q --show-progress https://github.com/MontrealCorpusTools/mfa-models/raw/main/acoustic/english.zip\n",
    "!wget -q --show-progress http://www.openslr.org/resources/11/librispeech-lexicon.txt"
   ]
  },
  {
   "cell_type": "code",
   "execution_count": null,
   "metadata": {
    "id": "zf_ssMA8cbHw"
   },
   "outputs": [],
   "source": [
    "# see: https://github.com/MontrealCorpusTools/Montreal-Forced-Aligner/pull/480\n",
    "import re\n",
    "lexicon = open(\"librispeech-lexicon.txt\").readlines()\n",
    "sp = re.compile(\"\\s+\")\n",
    "with open(\"modified_librispeech-lexicon.txt\", \"w\") as f:\n",
    "    for line in lexicon:\n",
    "        word, *phonemes = sp.split(line.strip())\n",
    "        phonemes = \" \".join(phonemes)\n",
    "        f.write(f\"{word}\\t{phonemes}\\n\")"
   ]
  },
  {
   "cell_type": "code",
   "execution_count": null,
   "metadata": {
    "id": "HcZE4uxyMhXg"
   },
   "outputs": [],
   "source": [
    "# FINALLY, align phonemes and speech\n",
    "!source {INSTALL_DIR}/miniconda3/bin/activate aligner; \\\n",
    "mfa align -t ./temp -j 4 ./wav modified_librispeech-lexicon.txt ./english.zip ./ljs_aligned\n",
    "# output files are at ./ljs_aligned\n",
    "!echo \"See output files at ./ljs_aligned\""
   ]
  },
  {
   "cell_type": "code",
   "execution_count": null,
   "metadata": {
    "id": "0bWYNXRlLZ84"
   },
   "outputs": [],
   "source": [
    "import shutil\n",
    "\n",
    "# Path to your folder\n",
    "folder_path = '/content/ljs_aligned'\n",
    "\n",
    "# Zip the folder\n",
    "shutil.make_archive('/content/ljs_aligned', 'zip', folder_path)\n"
   ]
  },
  {
   "cell_type": "code",
   "execution_count": null,
   "metadata": {
    "id": "LLI6VbZtu7xN"
   },
   "outputs": [],
   "source": []
  }
 ],
 "metadata": {
  "colab": {
   "machine_shape": "hm",
   "private_outputs": true,
   "provenance": []
  },
  "kernelspec": {
   "display_name": "Python 3",
   "language": "python",
   "name": "python3"
  },
  "language_info": {
   "codemirror_mode": {
    "name": "ipython",
    "version": 3
   },
   "file_extension": ".py",
   "mimetype": "text/x-python",
   "name": "python",
   "nbconvert_exporter": "python",
   "pygments_lexer": "ipython3",
   "version": "3.12.7"
  }
 },
 "nbformat": 4,
 "nbformat_minor": 0
}
