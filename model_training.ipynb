{
 "cells": [
  {
   "cell_type": "code",
   "execution_count": 131,
   "metadata": {},
   "outputs": [],
   "source": [
    "from sklearn.neural_network import MLPClassifier\n",
    "from sklearn.neighbors import KNeighborsClassifier\n",
    "from sklearn.svm import SVC\n",
    "from sklearn.linear_model import LogisticRegression\n",
    "from sklearn.tree import DecisionTreeClassifier\n",
    "from sklearn.ensemble import RandomForestClassifier, AdaBoostClassifier, VotingClassifier\n",
    "from sklearn.naive_bayes import GaussianNB\n",
    "from sklearn.pipeline import Pipeline\n",
    "from sklearn.preprocessing import StandardScaler\n",
    "# from sklearn.model_selection import train_test_split\n",
    "from tqdm import tqdm\n",
    "import joblib\n",
    "from sklearn.metrics import accuracy_score, precision_score, recall_score, f1_score\n",
    "from sklearn.metrics import confusion_matrix, ConfusionMatrixDisplay\n",
    "import matplotlib.pyplot as plt\n",
    "from sklearn.metrics import classification_report"
   ]
  },
  {
   "cell_type": "code",
   "execution_count": 132,
   "metadata": {},
   "outputs": [],
   "source": [
    "import joblib"
   ]
  },
  {
   "cell_type": "code",
   "execution_count": 133,
   "metadata": {},
   "outputs": [],
   "source": [
    "X_train = joblib.load('X_train.pkl')\n",
    "Y_train = joblib.load('Y_train.pkl')"
   ]
  },
  {
   "cell_type": "code",
   "execution_count": 134,
   "metadata": {},
   "outputs": [],
   "source": [
    "for i in range(len(Y_train)):\n",
    "    if(Y_train[i] == 2):\n",
    "        Y_train[i] = 1"
   ]
  },
  {
   "cell_type": "code",
   "execution_count": 135,
   "metadata": {},
   "outputs": [],
   "source": [
    "X_test = joblib.load('X_test.pkl')\n",
    "Y_test = joblib.load('Y_test.pkl')"
   ]
  },
  {
   "cell_type": "code",
   "execution_count": 136,
   "metadata": {},
   "outputs": [],
   "source": [
    "for i in range(len(Y_test)):\n",
    "    if(Y_test[i] == 2):\n",
    "        Y_test[i] = 1"
   ]
  },
  {
   "cell_type": "code",
   "execution_count": 137,
   "metadata": {},
   "outputs": [],
   "source": [
    "scaler = StandardScaler()\n",
    "X_train_scaled = scaler.fit_transform(X_train)"
   ]
  },
  {
   "cell_type": "code",
   "execution_count": 138,
   "metadata": {},
   "outputs": [],
   "source": [
    "X_test_scaled = scaler.transform(X_test)"
   ]
  },
  {
   "cell_type": "code",
   "execution_count": 139,
   "metadata": {},
   "outputs": [
    {
     "name": "stderr",
     "output_type": "stream",
     "text": [
      " 67%|██████▋   | 6/9 [00:16<00:06,  2.06s/it]/home/pranit/.local/lib/python3.10/site-packages/sklearn/ensemble/_weight_boosting.py:527: FutureWarning: The SAMME.R algorithm (the default) is deprecated and will be removed in 1.6. Use the SAMME algorithm to circumvent this warning.\n",
      "  warnings.warn(\n",
      "100%|██████████| 9/9 [00:23<00:00,  2.59s/it]\n"
     ]
    }
   ],
   "source": [
    "models = {\n",
    "    \"MLPClassifier\": MLPClassifier(max_iter=500, random_state=42),\n",
    "    \"KNeighborsClassifier\": KNeighborsClassifier(),\n",
    "    \"SVC\": SVC(probability=True, random_state=42),\n",
    "    \"LogisticRegression\": LogisticRegression(max_iter=500, random_state=42),\n",
    "    \"DecisionTreeClassifier\": DecisionTreeClassifier(random_state=42),\n",
    "    \"RandomForestClassifier\": RandomForestClassifier(random_state=42),\n",
    "    \"AdaBoostClassifier\": AdaBoostClassifier(random_state=42),\n",
    "    \"GaussianNB\": GaussianNB(),\n",
    "    \"Voting\": VotingClassifier(\n",
    "    estimators=[\n",
    "        ('lr', LogisticRegression(max_iter=500, random_state=42)),\n",
    "        ('rf', RandomForestClassifier(random_state=42)),\n",
    "        ('svc', SVC(probability=True, random_state=42)),\n",
    "    ],\n",
    "    voting='soft'  # 'hard' for majority voting, 'soft' for weighted probabilities\n",
    ")\n",
    "}\n",
    "\n",
    "# Train and evaluate each model\n",
    "for name, model in tqdm(models.items()):\n",
    "    model.fit(X_train_scaled, Y_train)\n",
    "    # y_pred = model.predict(X_test_scaled)\n",
    "    # accuracy = accuracy_score(Y_test, y_pred)\n",
    "    # print(f\"{name}: Accuracy = {accuracy:.2f}\")"
   ]
  },
  {
   "cell_type": "code",
   "execution_count": 20,
   "metadata": {},
   "outputs": [
    {
     "data": {
      "text/plain": [
       "['models.pkl']"
      ]
     },
     "execution_count": 20,
     "metadata": {},
     "output_type": "execute_result"
    }
   ],
   "source": [
    "joblib.dump(models, 'models.pkl')"
   ]
  },
  {
   "cell_type": "code",
   "execution_count": 31,
   "metadata": {},
   "outputs": [],
   "source": [
    "import numpy as np"
   ]
  },
  {
   "cell_type": "code",
   "execution_count": 48,
   "metadata": {},
   "outputs": [
    {
     "data": {
      "text/plain": [
       "array([0, 1])"
      ]
     },
     "execution_count": 48,
     "metadata": {},
     "output_type": "execute_result"
    }
   ],
   "source": [
    "np.unique(np.array(Y_train))"
   ]
  },
  {
   "cell_type": "code",
   "execution_count": 142,
   "metadata": {},
   "outputs": [
    {
     "name": "stderr",
     "output_type": "stream",
     "text": [
      " 22%|██▏       | 2/9 [00:00<00:00, 14.69it/s]"
     ]
    },
    {
     "name": "stdout",
     "output_type": "stream",
     "text": [
      "MLPClassifier: Accuracy = 0.82\n",
      "MLPClassifier: Precision = 0.86\n",
      "MLPClassifier: Recall = 0.81\n",
      "MLPClassifier: f1 = 0.84\n",
      "KNeighborsClassifier: Accuracy = 0.78\n",
      "KNeighborsClassifier: Precision = 0.84\n",
      "KNeighborsClassifier: Recall = 0.77\n",
      "KNeighborsClassifier: f1 = 0.80\n"
     ]
    },
    {
     "name": "stderr",
     "output_type": "stream",
     "text": [
      " 78%|███████▊  | 7/9 [00:00<00:00, 13.41it/s]"
     ]
    },
    {
     "name": "stdout",
     "output_type": "stream",
     "text": [
      "SVC: Accuracy = 0.84\n",
      "SVC: Precision = 0.89\n",
      "SVC: Recall = 0.82\n",
      "SVC: f1 = 0.86\n",
      "LogisticRegression: Accuracy = 0.80\n",
      "LogisticRegression: Precision = 0.84\n",
      "LogisticRegression: Recall = 0.80\n",
      "LogisticRegression: f1 = 0.82\n",
      "DecisionTreeClassifier: Accuracy = 0.69\n",
      "DecisionTreeClassifier: Precision = 0.76\n",
      "DecisionTreeClassifier: Recall = 0.68\n",
      "DecisionTreeClassifier: f1 = 0.72\n",
      "RandomForestClassifier: Accuracy = 0.82\n",
      "RandomForestClassifier: Precision = 0.88\n",
      "RandomForestClassifier: Recall = 0.80\n",
      "RandomForestClassifier: f1 = 0.84\n",
      "AdaBoostClassifier: Accuracy = 0.78\n",
      "AdaBoostClassifier: Precision = 0.82\n",
      "AdaBoostClassifier: Recall = 0.79\n",
      "AdaBoostClassifier: f1 = 0.80\n",
      "GaussianNB: Accuracy = 0.57\n",
      "GaussianNB: Precision = 0.91\n",
      "GaussianNB: Recall = 0.27\n",
      "GaussianNB: f1 = 0.42\n"
     ]
    },
    {
     "name": "stderr",
     "output_type": "stream",
     "text": [
      "100%|██████████| 9/9 [00:00<00:00,  9.69it/s]"
     ]
    },
    {
     "name": "stdout",
     "output_type": "stream",
     "text": [
      "Voting: Accuracy = 0.83\n",
      "Voting: Precision = 0.88\n",
      "Voting: Recall = 0.82\n",
      "Voting: f1 = 0.85\n"
     ]
    },
    {
     "name": "stderr",
     "output_type": "stream",
     "text": [
      "\n"
     ]
    }
   ],
   "source": [
    "for name, model in tqdm(models.items()):\n",
    "    # model.fit(X_train_scaled, Y_train)\n",
    "    y_pred = model.predict(X_test_scaled)\n",
    "    accuracy = accuracy_score(Y_test, y_pred)\n",
    "    precision = precision_score(Y_test, y_pred)\n",
    "    recall = recall_score(Y_test, y_pred)\n",
    "    f1 = f1_score(Y_test, y_pred)\n",
    "    print(f\"{name}: Accuracy = {accuracy:.2f}\")\n",
    "    print(f\"{name}: Precision = {precision:.2f}\")\n",
    "    print(f\"{name}: Recall = {recall:.2f}\")\n",
    "    print(f\"{name}: f1 = {f1:.2f}\")"
   ]
  },
  {
   "cell_type": "code",
   "execution_count": 124,
   "metadata": {},
   "outputs": [
    {
     "data": {
      "image/png": "[encoded data removed]",
      "text/plain": [
       "<Figure size 640x480 with 2 Axes>"
      ]
     },
     "metadata": {},
     "output_type": "display_data"
    }
   ],
   "source": [
    "cm = confusion_matrix(Y_test, y_pred, normalize='true')\n",
    "custom_labels = ['Unstressed', 'Stressed']\n",
    "\n",
    "# Display the confusion matrix\n",
    "disp = ConfusionMatrixDisplay(confusion_matrix=cm, display_labels=custom_labels)\n",
    "disp.plot(cmap='viridis')\n",
    "plt.title(\"Confusion Matrix\")\n",
    "plt.show()"
   ]
  },
  {
   "cell_type": "code",
   "execution_count": 125,
   "metadata": {},
   "outputs": [
    {
     "name": "stdout",
     "output_type": "stream",
     "text": [
      "              precision    recall  f1-score   support\n",
      "\n",
      "     Class 0       0.80      0.82      0.81       564\n",
      "     Class 1       0.86      0.84      0.85       758\n",
      "\n",
      "    accuracy                           0.83      1322\n",
      "   macro avg       0.83      0.83      0.83      1322\n",
      "weighted avg       0.83      0.83      0.83      1322\n",
      "\n"
     ]
    }
   ],
   "source": [
    "report = classification_report(Y_test, y_pred, target_names=['Class 0', 'Class 1'])\n",
    "print(report)"
   ]
  },
  {
   "cell_type": "code",
   "execution_count": 112,
   "metadata": {},
   "outputs": [
    {
     "name": "stderr",
     "output_type": "stream",
     "text": [
      " 22%|██▏       | 2/9 [00:00<00:00, 15.09it/s]"
     ]
    },
    {
     "name": "stdout",
     "output_type": "stream",
     "text": [
      "MLPClassifier: Accuracy = 0.65\n",
      "MLPClassifier: Precision = 0.77\n",
      "MLPClassifier: Recall = 0.72\n",
      "MLPClassifier: f1 = 0.75\n",
      "KNeighborsClassifier: Accuracy = 0.71\n",
      "KNeighborsClassifier: Precision = 0.77\n",
      "KNeighborsClassifier: Recall = 0.85\n",
      "KNeighborsClassifier: f1 = 0.81\n"
     ]
    },
    {
     "name": "stderr",
     "output_type": "stream",
     "text": [
      " 44%|████▍     | 4/9 [00:00<00:00, 10.92it/s]"
     ]
    },
    {
     "name": "stdout",
     "output_type": "stream",
     "text": [
      "SVC: Accuracy = 0.71\n",
      "SVC: Precision = 0.77\n",
      "SVC: Recall = 0.86\n",
      "SVC: f1 = 0.81\n",
      "LogisticRegression: Accuracy = 0.72\n",
      "LogisticRegression: Precision = 0.77\n",
      "LogisticRegression: Recall = 0.88\n",
      "LogisticRegression: f1 = 0.82\n",
      "DecisionTreeClassifier: Accuracy = 0.64\n",
      "DecisionTreeClassifier: Precision = 0.75\n",
      "DecisionTreeClassifier: Recall = 0.76\n",
      "DecisionTreeClassifier: f1 = 0.76\n",
      "RandomForestClassifier: Accuracy = 0.68\n",
      "RandomForestClassifier: Precision = 0.78\n",
      "RandomForestClassifier: Recall = 0.79\n",
      "RandomForestClassifier: f1 = 0.78\n",
      "AdaBoostClassifier: Accuracy = 0.71\n",
      "AdaBoostClassifier: Precision = 0.76\n",
      "AdaBoostClassifier: Recall = 0.89\n",
      "AdaBoostClassifier: f1 = 0.82\n",
      "GaussianNB: Accuracy = 0.72\n",
      "GaussianNB: Precision = 0.78\n",
      "GaussianNB: Recall = 0.85\n",
      "GaussianNB: f1 = 0.81\n"
     ]
    },
    {
     "name": "stderr",
     "output_type": "stream",
     "text": [
      "100%|██████████| 9/9 [00:00<00:00, 13.87it/s]"
     ]
    },
    {
     "name": "stdout",
     "output_type": "stream",
     "text": [
      "Voting: Accuracy = 0.71\n",
      "Voting: Precision = 0.77\n",
      "Voting: Recall = 0.86\n",
      "Voting: f1 = 0.81\n"
     ]
    },
    {
     "name": "stderr",
     "output_type": "stream",
     "text": [
      "\n"
     ]
    }
   ],
   "source": [
    "for name, model in tqdm(models.items()):\n",
    "    # model.fit(X_train_scaled, Y_train)\n",
    "    y_pred = model.predict(X_test_scaled)\n",
    "    accuracy = accuracy_score(Y_test, y_pred)\n",
    "    precision = precision_score(Y_test, y_pred)\n",
    "    recall = recall_score(Y_test, y_pred)\n",
    "    f1 = f1_score(Y_test, y_pred)\n",
    "    print(f\"{name}: Accuracy = {accuracy:.2f}\")\n",
    "    print(f\"{name}: Precision = {precision:.2f}\")\n",
    "    print(f\"{name}: Recall = {recall:.2f}\")\n",
    "    print(f\"{name}: f1 = {f1:.2f}\")"
   ]
  },
  {
   "cell_type": "code",
   "execution_count": 117,
   "metadata": {},
   "outputs": [
    {
     "data": {
      "image/png": "[encoded data removed]",
      "text/plain": [
       "<Figure size 640x480 with 2 Axes>"
      ]
     },
     "metadata": {},
     "output_type": "display_data"
    }
   ],
   "source": [
    "cm = confusion_matrix(Y_test, y_pred, normalize='true')\n",
    "custom_labels = ['Unstressed', 'Stressed']\n",
    "\n",
    "# Display the confusion matrix\n",
    "disp = ConfusionMatrixDisplay(confusion_matrix=cm, display_labels=custom_labels)\n",
    "disp.plot(cmap='viridis')\n",
    "plt.title(\"Confusion Matrix for non-native\")\n",
    "plt.show()"
   ]
  },
  {
   "cell_type": "code",
   "execution_count": 116,
   "metadata": {},
   "outputs": [
    {
     "name": "stdout",
     "output_type": "stream",
     "text": [
      "Voting: Accuracy = 0.71\n",
      "Voting: Precision = 0.77\n",
      "Voting: Recall = 0.86\n",
      "Voting: f1 = 0.81\n"
     ]
    }
   ],
   "source": [
    "accuracy = accuracy_score(Y_test, y_pred)\n",
    "precision = precision_score(Y_test, y_pred)\n",
    "recall = recall_score(Y_test, y_pred)\n",
    "f1 = f1_score(Y_test, y_pred)\n",
    "print(f\"{name}: Accuracy = {accuracy:.2f}\")\n",
    "print(f\"{name}: Precision = {precision:.2f}\")\n",
    "print(f\"{name}: Recall = {recall:.2f}\")\n",
    "print(f\"{name}: f1 = {f1:.2f}\")"
   ]
  },
  {
   "cell_type": "code",
   "execution_count": 119,
   "metadata": {},
   "outputs": [
    {
     "name": "stdout",
     "output_type": "stream",
     "text": [
      "              precision    recall  f1-score   support\n",
      "\n",
      "     Class 0       0.45      0.30      0.36       436\n",
      "     Class 1       0.77      0.86      0.81      1168\n",
      "\n",
      "    accuracy                           0.71      1604\n",
      "   macro avg       0.61      0.58      0.59      1604\n",
      "weighted avg       0.68      0.71      0.69      1604\n",
      "\n"
     ]
    }
   ],
   "source": [
    "report = classification_report(Y_test, y_pred, target_names=['Class 0', 'Class 1'])\n",
    "print(report)"
   ]
  },
  {
   "cell_type": "code",
   "execution_count": null,
   "metadata": {},
   "outputs": [],
   "source": []
  }
 ],
 "metadata": {
  "kernelspec": {
   "display_name": "Python 3.10.12 64-bit",
   "language": "python",
   "name": "python3"
  },
  "language_info": {
   "codemirror_mode": {
    "name": "ipython",
    "version": 3
   },
   "file_extension": ".py",
   "mimetype": "text/x-python",
   "name": "python",
   "nbconvert_exporter": "python",
   "pygments_lexer": "ipython3",
   "version": "3.10.12"
  },
  "orig_nbformat": 4,
  "vscode": {
   "interpreter": {
    "hash": "e7370f93d1d0cde622a1f8e1c04877d8463912d04d973331ad4851f04de6915a"
   }
  }
 },
 "nbformat": 4,
 "nbformat_minor": 2
}
